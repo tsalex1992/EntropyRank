{
 "cells": [
  {
   "cell_type": "code",
   "execution_count": 1,
   "metadata": {},
   "outputs": [
    {
     "name": "stderr",
     "output_type": "stream",
     "text": [
      "c:\\Users\\tsale\\OneDrive\\Desktop\\CS Masters Degree\\EntropyRank\\.venv\\Lib\\site-packages\\tqdm\\auto.py:21: TqdmWarning: IProgress not found. Please update jupyter and ipywidgets. See https://ipywidgets.readthedocs.io/en/stable/user_install.html\n",
      "  from .autonotebook import tqdm as notebook_tqdm\n"
     ]
    }
   ],
   "source": [
    "from datasets import load_dataset\n",
    "from entropyrank import EntropyRank\n",
    "import rake_nltk\n",
    "import yake\n",
    "from keybert import KeyBERT\n",
    "from TextRank import TextRank\n"
   ]
  },
  {
   "cell_type": "code",
   "execution_count": 4,
   "metadata": {},
   "outputs": [],
   "source": [
    "def generate_stop_words_from_files(stop_words_files) -> set[str]:\n",
    "        stop_words_from_files = set()\n",
    "        for file_path in stop_words_files:\n",
    "            # get current directory\n",
    "            # current_dir = os.path.dirname(os.path.realpath(__file__))\n",
    "            # file_path = os.path.join(current_dir, file_path)\n",
    "            stop_words_from_files.update(\n",
    "                EntropyRank._load_stop_words_from_file(file_path)\n",
    "            )\n",
    "\n",
    "        return stop_words_from_files\n",
    "\n",
    "stop_words_files = [\n",
    "            \"stopwords/SmartStoplist.txt\",\n",
    "        ]\n",
    "\n",
    "stop_words_from_files = generate_stop_words_from_files(stop_words_files)"
   ]
  },
  {
   "cell_type": "code",
   "execution_count": 5,
   "metadata": {},
   "outputs": [],
   "source": [
    "\n",
    "entropy_extractor = EntropyRank()\n",
    "rake_extractor = rake_nltk.Rake(include_repeated_phrases=False, stopwords=stop_words_from_files, max_length=5)\n",
    "yake_extractor = yake.KeywordExtractor()\n",
    "vectorizer=entropy_extractor.key_phrase_vectorizer\n",
    "kw_model = KeyBERT()\n",
    "text_rank_extractor = TextRank()\n"
   ]
  },
  {
   "cell_type": "code",
   "execution_count": 7,
   "metadata": {},
   "outputs": [
    {
     "name": "stderr",
     "output_type": "stream",
     "text": [
      "Found cached dataset semeval2010 (C:/Users/tsale/.cache/huggingface/datasets/midas___semeval2010/generation/0.0.1/557ceb28d01a0c1a7d1f26fbfd46e2c6285979264b3880b40d2b2234dac51443)\n",
      "100%|██████████| 2/2 [00:00<00:00, 76.92it/s]\n",
      "Found cached dataset semeval2017 (C:/Users/tsale/.cache/huggingface/datasets/midas___semeval2017/generation/0.0.1/0871215fa4f7da4155260640dfcb03a62ce17eb9f459377232459bfc1b17ab94)\n",
      "100%|██████████| 3/3 [00:00<00:00, 99.99it/s]\n",
      "Found cached dataset inspec (C:/Users/tsale/.cache/huggingface/datasets/midas___inspec/generation/0.0.1/debd18641afb7048a36cee2b7bb8dfbf2cd1a68899118653a42fd760cf84284e)\n",
      "100%|██████████| 3/3 [00:00<00:00, 90.86it/s]\n"
     ]
    }
   ],
   "source": [
    "#  long document english scientific articles\n",
    "semeval_2010 = load_dataset(\"midas/semeval2010\", \"generation\")\n",
    "# abstracts of english scientific articles\n",
    "semeval_2017 = load_dataset(\"midas/semeval2017\", \"generation\")\n",
    "# abstracts of English scientific papers\n",
    "inspec = load_dataset(\"midas/inspec\", \"generation\")\n",
    "\n",
    "\n",
    "\n"
   ]
  },
  {
   "cell_type": "code",
   "execution_count": 8,
   "metadata": {},
   "outputs": [],
   "source": [
    "from dataset_utils import prepare_ds_for_eval\n",
    "\n",
    "inspec_docs, inspec_phrases = prepare_ds_for_eval(inspec)\n",
    "semeval_2010_docs, semeval_2010_phrases = prepare_ds_for_eval(semeval_2010)\n",
    "semeval_2017_docs, semeval_2017_phrases = prepare_ds_for_eval(semeval_2017)"
   ]
  },
  {
   "cell_type": "code",
   "execution_count": 10,
   "metadata": {},
   "outputs": [
    {
     "name": "stdout",
     "output_type": "stream",
     "text": [
      "inspec: 1984\n",
      "semeval_2010: 244\n",
      "semeval_2017: 500\n"
     ]
    }
   ],
   "source": [
    "# print len of each dataset\n",
    "print(f\"inspec: {len(inspec_docs)}\")\n",
    "print(f\"semeval_2010: {len(semeval_2010_docs)}\")\n",
    "print(f\"semeval_2017: {len(semeval_2017_docs)}\")\n"
   ]
  },
  {
   "attachments": {},
   "cell_type": "markdown",
   "metadata": {},
   "source": [
    "### Prepare methods"
   ]
  },
  {
   "cell_type": "code",
   "execution_count": 11,
   "metadata": {},
   "outputs": [],
   "source": [
    "from entropyrank import PartitionMethod\n",
    "\n",
    "\n",
    "def rake_extraction(doc):\n",
    "    rake_extractor.extract_keywords_from_text(doc)\n",
    "    return rake_extractor.get_ranked_phrases()\n",
    "\n",
    "text_rank_extraction = lambda doc: text_rank_extractor.extract_key_phrases(doc)\n",
    "yake_extraction = lambda doc: [phrase[0] for phrase in yake_extractor.extract_keywords(doc)]\n",
    "pattern_rank_extraction = lambda doc: [keyword[0] for keyword in kw_model.extract_keywords(doc, vectorizer=vectorizer, top_n=20)]\n",
    "entropy_extraction_noun_phrases = lambda doc: [result[0] for result in entropy_extractor.extract_key_phrases(doc, number_of_key_phrases=20, partition_method=PartitionMethod.NOUN_PHRASES)]\n",
    "entropy_extraction_stop_words = lambda doc: [result[0] for result in entropy_extractor.extract_key_phrases(doc, number_of_key_phrases=20, partition_method=PartitionMethod.STOP_WORDS)]"
   ]
  },
  {
   "attachments": {},
   "cell_type": "markdown",
   "metadata": {},
   "source": [
    "### Eval"
   ]
  },
  {
   "cell_type": "code",
   "execution_count": 8,
   "metadata": {},
   "outputs": [
    {
     "name": "stdout",
     "output_type": "stream",
     "text": [
      "Dataset: inspec\n",
      "Method: entropy_noun_phrases\n"
     ]
    },
    {
     "name": "stderr",
     "output_type": "stream",
     "text": [
      "100%|██████████| 1984/1984 [04:28<00:00,  7.40it/s]\n"
     ]
    },
    {
     "name": "stdout",
     "output_type": "stream",
     "text": [
      "{'precision@5': 0.32207661290322476, 'recall@5': 0.2917951946309215, 'f1@5': 0.282588579964806, 'rouge1@5': 0.43802020312142, 'precision@10': 0.27469758064516214, 'recall@10': 0.4711736451621476, 'f1@10': 0.3238939559976106, 'rouge1@10': 0.4815145831692065, 'precision@15': 0.23195564516128572, 'recall@15': 0.5722799050474829, 'f1@15': 0.3110647081700049, 'rouge1@15': 0.4726735201362184}\n",
      "Method: pattern_rank\n"
     ]
    },
    {
     "name": "stderr",
     "output_type": "stream",
     "text": [
      "100%|██████████| 1984/1984 [01:15<00:00, 26.44it/s]\n"
     ]
    },
    {
     "name": "stdout",
     "output_type": "stream",
     "text": [
      "{'precision@5': 0.3290322580645155, 'recall@5': 0.3098948867912688, 'f1@5': 0.29424339276976275, 'rouge1@5': 0.44506643006401275, 'precision@10': 0.28497983870967786, 'recall@10': 0.49703656499819426, 'f1@10': 0.33854773241686786, 'rouge1@10': 0.48709081014564726, 'precision@15': 0.24193548387096275, 'recall@15': 0.5995255287034565, 'f1@15': 0.3251405905243928, 'rouge1@15': 0.4855744047468491}\n",
      "Method: rake\n"
     ]
    },
    {
     "name": "stderr",
     "output_type": "stream",
     "text": [
      "100%|██████████| 1984/1984 [00:00<00:00, 3273.19it/s]\n"
     ]
    },
    {
     "name": "stdout",
     "output_type": "stream",
     "text": [
      "{'precision@5': 0.21340725806451283, 'recall@5': 0.20599633267881282, 'f1@5': 0.19316944816351256, 'rouge1@5': 0.37388613892497957, 'precision@10': 0.22237903225806485, 'recall@10': 0.3971470438276285, 'f1@10': 0.2663496585899421, 'rouge1@10': 0.43294717459959287, 'precision@15': 0.20181451612902832, 'recall@15': 0.513506587999396, 'f1@15': 0.2732107197789484, 'rouge1@15': 0.42297102436913764}\n",
      "Method: yake\n"
     ]
    },
    {
     "name": "stderr",
     "output_type": "stream",
     "text": [
      "100%|██████████| 1984/1984 [01:59<00:00, 16.54it/s]\n"
     ]
    },
    {
     "name": "stdout",
     "output_type": "stream",
     "text": [
      "{'precision@5': 0.17328629032257778, 'recall@5': 0.17020396959680928, 'f1@5': 0.15737114807104371, 'rouge1@5': 0.33301342756750896, 'precision@10': 0.1434475806451601, 'recall@10': 0.2740387408176305, 'f1@10': 0.1746273628460196, 'rouge1@10': 0.3003772748521337, 'precision@15': 0.12916666666666513, 'recall@15': 0.3630109220774361, 'f1@15': 0.17869612599051002, 'rouge1@15': 0.27937950616253415}\n",
      "Method: text_rank\n"
     ]
    },
    {
     "name": "stderr",
     "output_type": "stream",
     "text": [
      "100%|██████████| 1984/1984 [00:38<00:00, 51.78it/s]\n"
     ]
    },
    {
     "name": "stdout",
     "output_type": "stream",
     "text": [
      "{'precision@5': 0.30453629032257834, 'recall@5': 0.27829137507315543, 'f1@5': 0.26863178346212213, 'rouge1@5': 0.3960629896647988, 'precision@10': 0.255141129032258, 'recall@10': 0.44520825978745165, 'f1@10': 0.302356305161274, 'rouge1@10': 0.4380439907841722, 'precision@15': 0.22019489247311383, 'recall@15': 0.5580763550263942, 'f1@15': 0.29716164227238656, 'rouge1@15': 0.43180479257613263}\n",
      "Dataset: semeval_2010\n",
      "Method: entropy_noun_phrases\n"
     ]
    },
    {
     "name": "stderr",
     "output_type": "stream",
     "text": [
      "100%|██████████| 244/244 [2:13:09<00:00, 32.75s/it]     \n"
     ]
    },
    {
     "name": "stdout",
     "output_type": "stream",
     "text": [
      "{'precision@5': 0.049180327868852416, 'recall@5': 0.025591173933748653, 'f1@5': 0.033077133791933354, 'rouge1@5': 0.1531254362936023, 'precision@10': 0.05532786885245891, 'recall@10': 0.05929351175147994, 'f1@10': 0.05575864184553904, 'rouge1@10': 0.18976774768843846, 'precision@15': 0.052459016393442554, 'recall@15': 0.08605055084369367, 'f1@15': 0.06358169571805637, 'rouge1@15': 0.20083829191376096}\n",
      "Method: pattern_rank\n"
     ]
    },
    {
     "name": "stderr",
     "output_type": "stream",
     "text": [
      "100%|██████████| 244/244 [04:58<00:00,  1.22s/it]\n"
     ]
    },
    {
     "name": "stdout",
     "output_type": "stream",
     "text": [
      "{'precision@5': 0.07950819672131136, 'recall@5': 0.04725330188099044, 'f1@5': 0.05745234587713882, 'rouge1@5': 0.23410712547220036, 'precision@10': 0.0680327868852458, 'recall@10': 0.0782654474442816, 'f1@10': 0.07058781551810397, 'rouge1@10': 0.218183192659325, 'precision@15': 0.06557377049180317, 'recall@15': 0.11027438765190842, 'f1@15': 0.08003930938013505, 'rouge1@15': 0.20849684248190142}\n",
      "Method: rake\n"
     ]
    },
    {
     "name": "stderr",
     "output_type": "stream",
     "text": [
      "100%|██████████| 244/244 [00:04<00:00, 53.50it/s]\n"
     ]
    },
    {
     "name": "stdout",
     "output_type": "stream",
     "text": [
      "{'precision@5': 0.000819672131147541, 'recall@5': 0.0004553734061930783, 'f1@5': 0.000585480093676815, 'rouge1@5': 0.05176637803216681, 'precision@10': 0.0004098360655737705, 'recall@10': 0.0004553734061930783, 'f1@10': 0.0004314063848144953, 'rouge1@10': 0.09165526381005779, 'precision@15': 0.000546448087431694, 'recall@15': 0.0009107468123861566, 'f1@15': 0.0006830601092896176, 'rouge1@15': 0.10520103362447097}\n",
      "Method: yake\n"
     ]
    },
    {
     "name": "stderr",
     "output_type": "stream",
     "text": [
      "100%|██████████| 244/244 [2:03:44<00:00, 30.43s/it]     \n"
     ]
    },
    {
     "name": "stdout",
     "output_type": "stream",
     "text": [
      "{'precision@5': 0.11721311475409815, 'recall@5': 0.06308202778882725, 'f1@5': 0.07977953233688392, 'rouge1@5': 0.1697355832402263, 'precision@10': 0.10450819672131152, 'recall@10': 0.11064714396309504, 'f1@10': 0.10456684437487965, 'rouge1@10': 0.20587449003603886, 'precision@15': 0.09453551912568287, 'recall@15': 0.15138936076501588, 'f1@15': 0.1134998878016079, 'rouge1@15': 0.2149155019305199}\n",
      "Method: text_rank\n"
     ]
    },
    {
     "name": "stderr",
     "output_type": "stream",
     "text": [
      "100%|██████████| 244/244 [04:10<00:00,  1.03s/it]\n"
     ]
    },
    {
     "name": "stdout",
     "output_type": "stream",
     "text": [
      "{'precision@5': 0.04836065573770488, 'recall@5': 0.026326691525739774, 'f1@5': 0.03304345151494064, 'rouge1@5': 0.14883878506438997, 'precision@10': 0.040983606557376984, 'recall@10': 0.044437337710156434, 'f1@10': 0.041215732533014436, 'rouge1@10': 0.14805242192923584, 'precision@15': 0.03688524590163932, 'recall@15': 0.059017496009131545, 'f1@15': 0.04412611134427265, 'rouge1@15': 0.14768566857757554}\n",
      "Dataset: semeval_2017\n",
      "Method: entropy_noun_phrases\n"
     ]
    },
    {
     "name": "stderr",
     "output_type": "stream",
     "text": [
      "100%|██████████| 500/500 [03:16<00:00,  2.54it/s]\n"
     ]
    },
    {
     "name": "stdout",
     "output_type": "stream",
     "text": [
      "{'precision@5': 0.28360000000000063, 'recall@5': 0.12881111351591723, 'f1@5': 0.1700034200726371, 'rouge1@5': 0.2615274966740006, 'precision@10': 0.25820000000000004, 'recall@10': 0.23092383978627523, 'f1@10': 0.23301658286695673, 'rouge1@10': 0.3972457125662406, 'precision@15': 0.24253333333333385, 'recall@15': 0.3171920632973609, 'f1@15': 0.2635488156088682, 'rouge1@15': 0.4571855914181796}\n",
      "Method: pattern_rank\n"
     ]
    },
    {
     "name": "stderr",
     "output_type": "stream",
     "text": [
      "100%|██████████| 500/500 [00:27<00:00, 18.31it/s]\n"
     ]
    },
    {
     "name": "stdout",
     "output_type": "stream",
     "text": [
      "{'precision@5': 0.3551999999999997, 'recall@5': 0.16240682186588645, 'f1@5': 0.21427507425036982, 'rouge1@5': 0.2907640616675946, 'precision@10': 0.32040000000000013, 'recall@10': 0.28499956648037433, 'f1@10': 0.28871101559686596, 'rouge1@10': 0.42899978863103794, 'precision@15': 0.28946666666666715, 'recall@15': 0.3747703442141572, 'f1@15': 0.3133139361621753, 'rouge1@15': 0.4976311580739679}\n",
      "Method: rake\n"
     ]
    },
    {
     "name": "stderr",
     "output_type": "stream",
     "text": [
      "100%|██████████| 500/500 [00:00<00:00, 2127.17it/s]\n"
     ]
    },
    {
     "name": "stdout",
     "output_type": "stream",
     "text": [
      "{'precision@5': 0.18000000000000071, 'recall@5': 0.08519146830157198, 'f1@5': 0.11121170371711316, 'rouge1@5': 0.2501469594046036, 'precision@10': 0.20639999999999975, 'recall@10': 0.18780819906125698, 'f1@10': 0.18892578559487702, 'rouge1@10': 0.39533065982245996, 'precision@15': 0.20773333333333402, 'recall@15': 0.2750547566147467, 'f1@15': 0.22767056647577438, 'rouge1@15': 0.45265431577832815}\n",
      "Method: yake\n"
     ]
    },
    {
     "name": "stderr",
     "output_type": "stream",
     "text": [
      "100%|██████████| 500/500 [00:29<00:00, 16.98it/s]\n"
     ]
    },
    {
     "name": "stdout",
     "output_type": "stream",
     "text": [
      "{'precision@5': 0.18160000000000087, 'recall@5': 0.08201343890974662, 'f1@5': 0.10842020775671737, 'rouge1@5': 0.1985434971392111, 'precision@10': 0.17859999999999987, 'recall@10': 0.16117237981636137, 'f1@10': 0.1616673064184049, 'rouge1@10': 0.2858442033078512, 'precision@15': 0.16493333333333407, 'recall@15': 0.21881030055174422, 'f1@15': 0.18002258608483637, 'rouge1@15': 0.32666843407139423}\n",
      "Method: text_rank\n"
     ]
    },
    {
     "name": "stderr",
     "output_type": "stream",
     "text": [
      "100%|██████████| 500/500 [00:12<00:00, 41.07it/s]\n"
     ]
    },
    {
     "name": "stdout",
     "output_type": "stream",
     "text": [
      "{'precision@5': 0.2568000000000009, 'recall@5': 0.11728231327593518, 'f1@5': 0.15481637994614694, 'rouge1@5': 0.25598820532240896, 'precision@10': 0.24199999999999983, 'recall@10': 0.21587648802221274, 'f1@10': 0.2187763837060686, 'rouge1@10': 0.37591974669721784, 'precision@15': 0.22386666666666738, 'recall@15': 0.2954140192977191, 'f1@15': 0.24418819826911542, 'rouge1@15': 0.4357497872012964}\n"
     ]
    }
   ],
   "source": [
    "from metrics import evaluate_metrics\n",
    "\n",
    "k_values = [5, 10, 15]\n",
    "methods = {\n",
    "    \"entropy_noun_phrases\": entropy_extraction_noun_phrases,\n",
    "    \"pattern_rank\": pattern_rank_extraction,\n",
    "    \"rake\": rake_extraction,\n",
    "    \"yake\": yake_extraction,\n",
    "    \"text_rank\": text_rank_extraction,\n",
    "}\n",
    "data_sets = {\n",
    "    \"inspec\": (inspec_docs, inspec_phrases),\n",
    "    \"semeval_2010\": (semeval_2010_docs, semeval_2010_phrases),\n",
    "    \"semeval_2017\": (semeval_2017_docs, semeval_2017_phrases),\n",
    "}\n",
    "\n",
    "results = {}\n",
    "use_partial_match_values = [False]\n",
    "\n",
    "for data_set_name, (docs, phrases) in data_sets.items():\n",
    "    print(f\"Dataset: {data_set_name}\")\n",
    "    for method_name, method in methods.items():\n",
    "        print(f\"Method: {method_name}\")\n",
    "        results_dict = evaluate_metrics(\n",
    "            eval_set=docs,\n",
    "            gt=phrases,\n",
    "            extraction_callback=method,\n",
    "            k_values=k_values,\n",
    "            use_partial_match_values=use_partial_match_values,\n",
    "        )\n",
    "        if data_set_name not in results:\n",
    "            results[data_set_name] = {}\n",
    "        results[data_set_name][method_name] = results_dict\n",
    "        print(results_dict)"
   ]
  },
  {
   "cell_type": "code",
   "execution_count": 9,
   "metadata": {},
   "outputs": [
    {
     "name": "stdout",
     "output_type": "stream",
     "text": [
      "{'inspec': {'entropy_noun_phrases': {'precision@5': 0.32207661290322476, 'recall@5': 0.2917951946309215, 'f1@5': 0.282588579964806, 'rouge1@5': 0.43802020312142, 'precision@10': 0.27469758064516214, 'recall@10': 0.4711736451621476, 'f1@10': 0.3238939559976106, 'rouge1@10': 0.4815145831692065, 'precision@15': 0.23195564516128572, 'recall@15': 0.5722799050474829, 'f1@15': 0.3110647081700049, 'rouge1@15': 0.4726735201362184}, 'pattern_rank': {'precision@5': 0.3290322580645155, 'recall@5': 0.3098948867912688, 'f1@5': 0.29424339276976275, 'rouge1@5': 0.44506643006401275, 'precision@10': 0.28497983870967786, 'recall@10': 0.49703656499819426, 'f1@10': 0.33854773241686786, 'rouge1@10': 0.48709081014564726, 'precision@15': 0.24193548387096275, 'recall@15': 0.5995255287034565, 'f1@15': 0.3251405905243928, 'rouge1@15': 0.4855744047468491}, 'rake': {'precision@5': 0.21340725806451283, 'recall@5': 0.20599633267881282, 'f1@5': 0.19316944816351256, 'rouge1@5': 0.37388613892497957, 'precision@10': 0.22237903225806485, 'recall@10': 0.3971470438276285, 'f1@10': 0.2663496585899421, 'rouge1@10': 0.43294717459959287, 'precision@15': 0.20181451612902832, 'recall@15': 0.513506587999396, 'f1@15': 0.2732107197789484, 'rouge1@15': 0.42297102436913764}, 'yake': {'precision@5': 0.17328629032257778, 'recall@5': 0.17020396959680928, 'f1@5': 0.15737114807104371, 'rouge1@5': 0.33301342756750896, 'precision@10': 0.1434475806451601, 'recall@10': 0.2740387408176305, 'f1@10': 0.1746273628460196, 'rouge1@10': 0.3003772748521337, 'precision@15': 0.12916666666666513, 'recall@15': 0.3630109220774361, 'f1@15': 0.17869612599051002, 'rouge1@15': 0.27937950616253415}, 'text_rank': {'precision@5': 0.30453629032257834, 'recall@5': 0.27829137507315543, 'f1@5': 0.26863178346212213, 'rouge1@5': 0.3960629896647988, 'precision@10': 0.255141129032258, 'recall@10': 0.44520825978745165, 'f1@10': 0.302356305161274, 'rouge1@10': 0.4380439907841722, 'precision@15': 0.22019489247311383, 'recall@15': 0.5580763550263942, 'f1@15': 0.29716164227238656, 'rouge1@15': 0.43180479257613263}}, 'semeval_2010': {'entropy_noun_phrases': {'precision@5': 0.049180327868852416, 'recall@5': 0.025591173933748653, 'f1@5': 0.033077133791933354, 'rouge1@5': 0.1531254362936023, 'precision@10': 0.05532786885245891, 'recall@10': 0.05929351175147994, 'f1@10': 0.05575864184553904, 'rouge1@10': 0.18976774768843846, 'precision@15': 0.052459016393442554, 'recall@15': 0.08605055084369367, 'f1@15': 0.06358169571805637, 'rouge1@15': 0.20083829191376096}, 'pattern_rank': {'precision@5': 0.07950819672131136, 'recall@5': 0.04725330188099044, 'f1@5': 0.05745234587713882, 'rouge1@5': 0.23410712547220036, 'precision@10': 0.0680327868852458, 'recall@10': 0.0782654474442816, 'f1@10': 0.07058781551810397, 'rouge1@10': 0.218183192659325, 'precision@15': 0.06557377049180317, 'recall@15': 0.11027438765190842, 'f1@15': 0.08003930938013505, 'rouge1@15': 0.20849684248190142}, 'rake': {'precision@5': 0.000819672131147541, 'recall@5': 0.0004553734061930783, 'f1@5': 0.000585480093676815, 'rouge1@5': 0.05176637803216681, 'precision@10': 0.0004098360655737705, 'recall@10': 0.0004553734061930783, 'f1@10': 0.0004314063848144953, 'rouge1@10': 0.09165526381005779, 'precision@15': 0.000546448087431694, 'recall@15': 0.0009107468123861566, 'f1@15': 0.0006830601092896176, 'rouge1@15': 0.10520103362447097}, 'yake': {'precision@5': 0.11721311475409815, 'recall@5': 0.06308202778882725, 'f1@5': 0.07977953233688392, 'rouge1@5': 0.1697355832402263, 'precision@10': 0.10450819672131152, 'recall@10': 0.11064714396309504, 'f1@10': 0.10456684437487965, 'rouge1@10': 0.20587449003603886, 'precision@15': 0.09453551912568287, 'recall@15': 0.15138936076501588, 'f1@15': 0.1134998878016079, 'rouge1@15': 0.2149155019305199}, 'text_rank': {'precision@5': 0.04836065573770488, 'recall@5': 0.026326691525739774, 'f1@5': 0.03304345151494064, 'rouge1@5': 0.14883878506438997, 'precision@10': 0.040983606557376984, 'recall@10': 0.044437337710156434, 'f1@10': 0.041215732533014436, 'rouge1@10': 0.14805242192923584, 'precision@15': 0.03688524590163932, 'recall@15': 0.059017496009131545, 'f1@15': 0.04412611134427265, 'rouge1@15': 0.14768566857757554}}, 'semeval_2017': {'entropy_noun_phrases': {'precision@5': 0.28360000000000063, 'recall@5': 0.12881111351591723, 'f1@5': 0.1700034200726371, 'rouge1@5': 0.2615274966740006, 'precision@10': 0.25820000000000004, 'recall@10': 0.23092383978627523, 'f1@10': 0.23301658286695673, 'rouge1@10': 0.3972457125662406, 'precision@15': 0.24253333333333385, 'recall@15': 0.3171920632973609, 'f1@15': 0.2635488156088682, 'rouge1@15': 0.4571855914181796}, 'pattern_rank': {'precision@5': 0.3551999999999997, 'recall@5': 0.16240682186588645, 'f1@5': 0.21427507425036982, 'rouge1@5': 0.2907640616675946, 'precision@10': 0.32040000000000013, 'recall@10': 0.28499956648037433, 'f1@10': 0.28871101559686596, 'rouge1@10': 0.42899978863103794, 'precision@15': 0.28946666666666715, 'recall@15': 0.3747703442141572, 'f1@15': 0.3133139361621753, 'rouge1@15': 0.4976311580739679}, 'rake': {'precision@5': 0.18000000000000071, 'recall@5': 0.08519146830157198, 'f1@5': 0.11121170371711316, 'rouge1@5': 0.2501469594046036, 'precision@10': 0.20639999999999975, 'recall@10': 0.18780819906125698, 'f1@10': 0.18892578559487702, 'rouge1@10': 0.39533065982245996, 'precision@15': 0.20773333333333402, 'recall@15': 0.2750547566147467, 'f1@15': 0.22767056647577438, 'rouge1@15': 0.45265431577832815}, 'yake': {'precision@5': 0.18160000000000087, 'recall@5': 0.08201343890974662, 'f1@5': 0.10842020775671737, 'rouge1@5': 0.1985434971392111, 'precision@10': 0.17859999999999987, 'recall@10': 0.16117237981636137, 'f1@10': 0.1616673064184049, 'rouge1@10': 0.2858442033078512, 'precision@15': 0.16493333333333407, 'recall@15': 0.21881030055174422, 'f1@15': 0.18002258608483637, 'rouge1@15': 0.32666843407139423}, 'text_rank': {'precision@5': 0.2568000000000009, 'recall@5': 0.11728231327593518, 'f1@5': 0.15481637994614694, 'rouge1@5': 0.25598820532240896, 'precision@10': 0.24199999999999983, 'recall@10': 0.21587648802221274, 'f1@10': 0.2187763837060686, 'rouge1@10': 0.37591974669721784, 'precision@15': 0.22386666666666738, 'recall@15': 0.2954140192977191, 'f1@15': 0.24418819826911542, 'rouge1@15': 0.4357497872012964}}}\n"
     ]
    }
   ],
   "source": [
    "print(results)"
   ]
  },
  {
   "cell_type": "code",
   "execution_count": 10,
   "metadata": {},
   "outputs": [],
   "source": [
    "# save results into a json file\n",
    "import json\n",
    "with open(\"results.json\", \"w\") as f:\n",
    "    json.dump(results, f, indent=4)"
   ]
  },
  {
   "cell_type": "code",
   "execution_count": 15,
   "metadata": {},
   "outputs": [],
   "source": [
    "# iterate over the numerical values, multiply them by 100 and round them to 2 decimal places\n",
    "for data_set_name, (docs, phrases) in data_sets.items():\n",
    "    for method_name, method in methods.items():\n",
    "        for key, value in results[data_set_name][method_name].items():\n",
    "            if isinstance(value, float):\n",
    "                results[data_set_name][method_name][key] = round(value * 100, 2)\n",
    "        "
   ]
  },
  {
   "cell_type": "code",
   "execution_count": null,
   "metadata": {},
   "outputs": [],
   "source": [
    "# save into final rounded results jsi file\n",
    "\n",
    "with open(\"results_rounded.json\", \"w\") as f:\n",
    "    json.dump(results, f, indent=4)"
   ]
  },
  {
   "cell_type": "code",
   "execution_count": 21,
   "metadata": {},
   "outputs": [],
   "source": [
    "from metrics import _lc_gt_and_results\n",
    "\n",
    "\n",
    "def compute_average_intersection_over_union_at_k(\n",
    "    results: list[list[str]], ground_truth: list[list[str]], k: int\n",
    ") -> float:\n",
    "    \"\"\"Compute the average intersection over union at k for a list of results and ground truth.\"\"\"\n",
    "    return sum(\n",
    "        compute_intersection_over_union_at_k(result, gt, k)\n",
    "        for result, gt in zip(results, ground_truth)\n",
    "    ) / len(results)\n",
    "\n",
    "\n",
    "def compute_intersection_over_union_at_k(\n",
    "    results: list[str], ground_truth: list[str], k: int\n",
    ") -> float:\n",
    "    \"\"\"Compute the intersection over union at k for a list of results and ground truth.\"\"\"\n",
    "    # lower case all the results and ground truth\n",
    "    results, ground_truth = _lc_gt_and_results(results, ground_truth)\n",
    "    return len(set(results[:k]).intersection(set(ground_truth))) / len(\n",
    "        set(results[:k]).union(set(ground_truth))\n",
    "    )"
   ]
  },
  {
   "cell_type": "code",
   "execution_count": 26,
   "metadata": {},
   "outputs": [
    {
     "name": "stderr",
     "output_type": "stream",
     "text": [
      "100%|██████████| 1984/1984 [08:00<00:00,  4.13it/s]\n"
     ]
    }
   ],
   "source": [
    "# run compute_intersection_over_union_at_k at k = 15 for  entropy_extraction_noun_phrases, pattern_rank_extraction, on inspec\n",
    "from tqdm import tqdm\n",
    "\n",
    "k = [5, 10, 15]\n",
    "\n",
    "entropy_np_results = []\n",
    "pattern_rank_results = []\n",
    "for eval_case in tqdm(inspec_docs):\n",
    "        entropy_np_results.append(entropy_extraction_noun_phrases(eval_case))\n",
    "        pattern_rank_results.append(pattern_rank_extraction(eval_case))\n",
    "\n",
    "iou_at_k = {}\n",
    "for k in k:\n",
    "    iou_at_k[k] = compute_average_intersection_over_union_at_k(entropy_np_results, inspec_phrases, k)\n",
    "\n",
    "\n",
    "\n",
    "\n",
    "    "
   ]
  },
  {
   "cell_type": "code",
   "execution_count": 27,
   "metadata": {},
   "outputs": [
    {
     "name": "stdout",
     "output_type": "stream",
     "text": [
      "Intersection over union at k = 15 for entropy_extraction_noun_phrases and pattern_rank_extraction on inspec:  {5: 0.18091734739165935, 10: 0.21027611840149796, 15: 0.20428895484440596}\n"
     ]
    }
   ],
   "source": [
    "print(\"Intersection over union at k = 15 for entropy_extraction_noun_phrases and pattern_rank_extraction on inspec: \", iou_at_k)\n"
   ]
  }
 ],
 "metadata": {
  "kernelspec": {
   "display_name": ".venv",
   "language": "python",
   "name": "python3"
  },
  "language_info": {
   "codemirror_mode": {
    "name": "ipython",
    "version": 3
   },
   "file_extension": ".py",
   "mimetype": "text/x-python",
   "name": "python",
   "nbconvert_exporter": "python",
   "pygments_lexer": "ipython3",
   "version": "3.11.3"
  },
  "orig_nbformat": 4
 },
 "nbformat": 4,
 "nbformat_minor": 2
}
